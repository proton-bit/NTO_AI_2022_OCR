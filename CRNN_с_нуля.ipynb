version https://git-lfs.github.com/spec/v1
oid sha256:935b6baf57745c506e1acb30a32668db596b01409e6adc15004e2675030ceec2
size 26188
