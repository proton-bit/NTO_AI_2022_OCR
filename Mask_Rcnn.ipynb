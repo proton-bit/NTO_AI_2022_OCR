version https://git-lfs.github.com/spec/v1
oid sha256:be93b8d3b1d682227ffc651ef05f25c983aa6953ce39ec65f56ad77242216c8d
size 7488
