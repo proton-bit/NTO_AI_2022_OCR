version https://git-lfs.github.com/spec/v1
oid sha256:7ad070e41fb5930287811e46ee5792a802006b04ad1316aade98cde76cda3021
size 29057
