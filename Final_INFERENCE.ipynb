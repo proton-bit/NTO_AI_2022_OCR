version https://git-lfs.github.com/spec/v1
oid sha256:e3d9e962428cb5f1014649c338c1b340c773c26bfed9d4ef90888f30441095c5
size 28416
